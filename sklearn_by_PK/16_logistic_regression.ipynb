{
 "cells": [
  {
   "cell_type": "code",
   "execution_count": 1,
   "id": "7a8d5e5b",
   "metadata": {},
   "outputs": [],
   "source": [
    "# import all the dependencies\n",
    "import pandas as pd\n",
    "import numpy as np\n",
    "import matplotlib.pyplot as plt\n",
    "from sklearn.linear_model import LogisticRegression"
   ]
  },
  {
   "cell_type": "code",
   "execution_count": 2,
   "id": "c1775282",
   "metadata": {},
   "outputs": [],
   "source": [
    "# define dataset\n",
    "x=np.array([100,120,150,170,200,200,202,203,205,210,215,250,270,300,305,310])\n",
    "y=np.array([1,1,1,1,1,1,1,0,1,0,0,0,0,0,0,0])"
   ]
  },
  {
   "cell_type": "code",
   "execution_count": 3,
   "id": "340a6192",
   "metadata": {},
   "outputs": [
    {
     "data": {
      "text/plain": [
       "Text(0, 0.5, 'Status [1:Won, 0:Lost]')"
      ]
     },
     "execution_count": 3,
     "metadata": {},
     "output_type": "execute_result"
    },
    {
     "data": {
      "image/png": "[encoded data removed]",
      "text/plain": [
       "<Figure size 432x288 with 1 Axes>"
      ]
     },
     "metadata": {
      "needs_background": "light"
     },
     "output_type": "display_data"
    }
   ],
   "source": [
    "# plot the dataset\n",
    "plt.scatter(x,y)\n",
    "plt.title('Pricing Bids')\n",
    "plt.xlabel('Price')\n",
    "plt.ylabel('Status [1:Won, 0:Lost]')"
   ]
  },
  {
   "cell_type": "code",
   "execution_count": 4,
   "id": "5b76f8e5",
   "metadata": {},
   "outputs": [
    {
     "data": {
      "text/plain": [
       "LogisticRegression(multi_class='ovr')"
      ]
     },
     "execution_count": 4,
     "metadata": {},
     "output_type": "execute_result"
    }
   ],
   "source": [
    "# initialise and execute the model\n",
    "logreg=LogisticRegression(C=1.0,solver='lbfgs',multi_class='ovr')\n",
    "x=x.reshape(-1,1)\n",
    "logreg.fit(x,y)"
   ]
  },
  {
   "cell_type": "code",
   "execution_count": 8,
   "id": "5e2f2060",
   "metadata": {},
   "outputs": [
    {
     "name": "stdout",
     "output_type": "stream",
     "text": [
      "[1]\n",
      "[0]\n"
     ]
    }
   ],
   "source": [
    "# predict values\n",
    "print(logreg.predict([[110]]))\n",
    "print(logreg.predict([[270]]))"
   ]
  },
  {
   "cell_type": "code",
   "execution_count": null,
   "id": "15cad066",
   "metadata": {},
   "outputs": [],
   "source": []
  }
 ],
 "metadata": {
  "kernelspec": {
   "display_name": "Python 3",
   "language": "python",
   "name": "python3"
  },
  "language_info": {
   "codemirror_mode": {
    "name": "ipython",
    "version": 3
   },
   "file_extension": ".py",
   "mimetype": "text/x-python",
   "name": "python",
   "nbconvert_exporter": "python",
   "pygments_lexer": "ipython3",
   "version": "3.8.8"
  }
 },
 "nbformat": 4,
 "nbformat_minor": 5
}
